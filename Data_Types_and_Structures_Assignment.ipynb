
Data Types and Structures Assignment Question
Theory Question Answer
1. What are data structures, and why are they important?

Data structures are specialized formats for organizing, storing, and manipulating data efficiently in a computer.

They're important because:

    They provide efficient ways to access and modify data
    Different structures have different performance characteristics for various operations
    They help organize data in meaningful ways
    They're fundamental building blocks for algorithms and programs
    They can significantly impact the speed and efficiency of your code.

2. Explain the difference between mutable and immutable data types with examples:

Mutable data types can be changed after creation:

    Lists: my_list = [1, 2, 3] → my_list[0] = 99 (works)
    Dictionaries: my_dict = {'a': 1} → my_dict['a'] = 2 (works)
    Sets: my_set = {1, 2, 3} → my_set.add(4) (works)

Immutable data types cannot be changed after creation:

    Integers: x = 5 → cannot modify the value 5 itself
    Floats: y = 3.14 → cannot modify the value 3.14 itself
    Strings: s = "hello" → cannot modify individual characters
    Tuples: t = (1, 2, 3) → cannot modify elements after creation

3. What are the main differences between lists and tuples in Python?

    Mutability: Lists are mutable (can be changed), tuples are immutable (cannot be changed)
    Syntax: Lists use square brackets [1, 2, 3], tuples use parentheses (1, 2, 3)
    Performance: Tuples are slightly faster and use less memory
    Usage: Lists for collections that need to be modified, tuples for fixed collections
    Methods: Lists have more built-in methods (append, extend, etc.)

4. Describe how dictionaries store data:

Dictionaries store data as key-value pairs using a hash table implementation:

    Each key must be unique and immutable (like strings, numbers, or tuples)
    Values can be any data type and mutable
    Items are not stored in any specific order (in Python 3.7+ insertion order is preserved)
    Under the hood, dictionaries use a hash function to compute an index where values are stored
    This provides very fast O(1) lookup time regardless of dictionary size.

5. Why might you use a set instead of a list in Python?

You might use a set instead of a list when:

    You need to ensure all elements are unique (sets automatically eliminate duplicates)
    You need to perform frequent membership testing ('in' operations are much faster in sets)
    You need to perform mathematical set operations (union, intersection, difference)
    Order of elements is not important
    You need faster add/remove operations for large collections

6. What is a string in Python, and how is it different from a list?

A string in Python is an immutable sequence of characters. Differences from lists:

    Strings can only contain characters, while lists can contain any data type
    Strings are immutable (cannot be changed), lists are mutable
    Strings have specialized methods for text processing (split, replace, etc.)
    Strings use different syntax: "hello" vs ['h', 'e', 'l', 'l', 'o']

7. How do tuples ensure data integrity in Python?

Tuples ensure data integrity through:

    Immutability: Once created, tuple contents cannot be modified
    This prevents accidental changes to data that should remain constant
    Immutability allows tuples to be used as dictionary keys
    They can be used to guarantee that data won't change throughout program execution
    Their immutability makes them more memory efficient and slightly faster than lists

8. What is a hash table, and how does it relate to dictionaries in Python?

A hash table is a data structure that maps keys to values using a hash function. In Python:

    Dictionaries are implemented using hash tables
    The hash function converts keys into array indices for storage
    This allows for O(1) average time complexity for lookups, insertions, and deletions
    When you access a key, Python hashes it to find the corresponding value quickly
    Collisions (when different keys produce the same hash) are handled internally

9. Can lists contain different data types in Python?

Yes! Lists in Python can contain different data types, including:

    Numbers (integers, floats)
    Strings
    Booleans
    Other lists (nested lists)
    Tuples, dictionaries, sets
    Custom objects

Example: mixed_list = [1, "hello", True, [2, 3], {"name": "Alice"}]
10. Explain why strings are immutable in Python:

Strings are immutable in Python for several reasons:

    It allows Python to optimize memory usage by reusing string objects
    It ensures security since strings can't be modified unexpectedly
    It allows strings to be used as dictionary keys (which must be immutable)
    It simplifies string handling and prevents unexpected side effects
    It enables Python to implement certain optimizations like string interning

11. What advantages do dictionaries offer over lists for certain tasks?

Dictionaries offer several advantages:

    Fast lookups by key (O(1) vs O(n) for lists)
    Semantic clarity with named keys instead of numeric indices
    Efficient for tasks requiring frequent lookups, insertions, and deletions
    Better for representing structured data with named fields
    Can store heterogeneous data with meaningful labels
    No need to know the position of an item to retrieve it

12. Describe a scenario where using a tuple would be preferable over a list:

Tuples are preferable when:

    Representing fixed data like coordinates: point = (x, y, z)
    Returning multiple values from a function
    Using as dictionary keys (lists can't be keys)
    Storing data that shouldn't change (like database records)
    Working with data that has a fixed structure (like RGB values)
    When you want to enforce immutability for data security

13. How do sets handle duplicate values in Python?

Sets automatically eliminate duplicates:

    When you create a set or add elements to it, duplicates are silently ignored
    Only one instance of each value is stored
    This happens because sets use hash tables internally
    When you convert another collection to a set, duplicates are removed
    Example: {1, 2, 2, 3, 3, 3} becomes {1, 2, 3}

14. How does the "in" keyword work differently for lists and dictionaries?

The 'in' keyword works differently because:

    For lists: 'in' searches sequentially through all elements (O(n) time complexity)
    For dictionaries: 'in' checks if a key exists using hashing (O(1) time complexity)
    For lists, 'in' gets slower as the list grows
    For dictionaries, 'in' remains fast regardless of size
    For dictionaries, 'in' only checks keys, not values (use value in dict.values() for values)

15. Can you modify the elements of a tuple? Explain why or why not:

You cannot modify the elements of a tuple directly because tuples are immutable. However:

    You cannot add, remove, or replace elements in a tuple
    You cannot assign to individual positions: my_tuple[0] = 5 will raise an error
    If a tuple contains mutable objects (like lists), those objects can be modified
    Example: t = ([1, 2], 3) → t[0].append(4) works, but t[0] = [5, 6] doesn't

16. What is a nested dictionary, and give an example of its use case?

A nested dictionary is a dictionary where some values are themselves dictionaries. This creates a hierarchical structure that can represent complex data relationships.

#Example:
student_data = {
    "Alice": {
        "age": 22,
        "major": "Computer Science",
        "grades": {"math": 95, "programming": 98}
    },
    "Bob": {
        "age": 21,
        "major": "Physics",
        "grades": {"math": 90, "physics": 92}
    }
}
student_data
     

{'Alice': {'age': 22,
  'major': 'Computer Science',
  'grades': {'math': 95, 'programming': 98}},
 'Bob': {'age': 21, 'major': 'Physics', 'grades': {'math': 90, 'physics': 92}}}

Use cases include:

    Representing hierarchical data like organizational structures
    Storing complex configurations with multiple levels
    Managing relational data like users with multiple attributes and sub-attributes
    JSON-like data structures for APIs and web applications

17. Describe the time complexity of accessing elements in a dictionary:

Accessing elements in a dictionary has:

    Average case: O(1) - constant time
    Worst case: O(n) - linear time (rare, happens with many hash collisions)

This means that regardless of the dictionary size, lookups are typically instantaneous, making dictionaries ideal for applications requiring fast data retrieval by key.
18. In what situations are lists preferred over dictionaries?

Lists are preferred when:

    Order matters and you need to maintain sequence
    You need to access elements by position (index) rather than by name
    You need to perform operations that rely on order (sorting, reversing)
    You need to store duplicate values
    Memory efficiency is important for simple sequential data
    You need to perform operations on all elements (iteration) frequently
    The data naturally forms a sequence rather than key-value pairs

19. Why are dictionaries considered unordered, and how does that affect data retrieval?

Traditionally, dictionaries were considered unordered because:

    The internal hash table implementation didn't guarantee position
    The order could change between Python versions or implementations
    Insertion order wasn't preserved

However, since Python 3.7, dictionaries do preserve insertion order as an implementation detail, and in Python 3.8+ this is a language guarantee.

This affects data retrieval because:

    You should not rely on order when using dictionaries (especially in older Python versions)
    You should access items by key, not position
    If order is critical, consider using OrderedDict (though regular dicts now maintain order)

20. Explain the difference between a list and a dictionary in terms of data retrieval:

Lists vs dictionaries for data retrieval:

    Lists: Retrieve by index (position) using square brackets: my_list[0]
    Dictionaries: Retrieve by key using square brackets: my_dict["key"]
    List retrieval is O(1) if you know the index, but searching is O(n)
    Dictionary retrieval is O(1) regardless of size (average case)
    Lists require knowing the position of data
    Dictionaries require knowing the key but not the position
    Lists must be searched sequentially to find a value
    Dictionaries can retrieve values directly using their keys

Practical Question→
1. Write a code to create a string with your name and print it.

my_name = "Kishor Kumar"
print(my_name)
     

Kishor Kumar

2. Write a code to find the length of the string "Hello World":

text = "Hello World"
length = len(text)
print(length)
     

11

3. Write a code to slice the first 3 characters from the string "Python Programming":

text = "Python Programming"
first_three = text[:3]
print(first_three)
     

Pyt

4. Write a code to convert the string "hello" to uppercase:

text = "hello"
uppercase_text = text.upper()
print(uppercase_text)
     

HELLO

5. Write a code to replace the word "apple" with "orange" in the string "I like apple":

text = "I like apple"
new_text = text.replace("apple", "orange")
print(new_text)
     

I like orange

6. Write a code to create a list with numbers 1 to 5 and print it:

numbers = [1, 2, 3, 4, 5]
print(numbers)

# Alternative way to create the list
numbers = list(range(1, 6))
print(numbers)
     

[1, 2, 3, 4, 5]
[1, 2, 3, 4, 5]

7. Write a code to append the number 10 to the list [1, 2, 3, 4]:

numbers = [1, 2, 3, 4]
numbers.append(10)
print(numbers)
     

[1, 2, 3, 4, 10]

    Write a code to remove the number 3 from the list [1, 2, 3, 4, 5].


numbers = [1, 2, 3, 4, 5]
numbers.remove(3)
print(numbers)

# Alternative way
numbers = [1, 2, 3, 4, 5]
index = numbers.index(3)
del numbers[index]
print(numbers)
     

[1, 2, 4, 5]
[1, 2, 4, 5]

9. Write a code to access the second element in the list ['a', 'b', 'c', 'd']:

letters = ['a', 'b', 'c', 'd']
second_element = letters[1]  # indexing starts at 0
print(second_element)
     

b

10. Write a code to reverse the list [10, 20, 30, 40, 50].

numbers = [10, 20, 30, 40, 50]
numbers.reverse()
print(numbers)

# Alternative way
numbers = [10, 20, 30, 40, 50]
reversed_numbers = numbers[::-1]  #Slicing
print(reversed_numbers)
     

[50, 40, 30, 20, 10]
[50, 40, 30, 20, 10]

11. Write a code to create a tuple with the elements 100, 200, 300 and print it:

my_tuple = (100, 200, 300)
print(my_tuple)  # Output: (100, 200, 300)

# Alternative way
my_tuple = 100, 200, 300  # Parentheses are optional
print(my_tuple)

     

(100, 200, 300)
(100, 200, 300)

12. Write a code to access the second-to-last element of the tuple ('red', 'green', 'blue', 'yellow'):

colors = ('red', 'green', 'blue', 'yellow')
second_to_last = colors[-2]
print(second_to_last)
     

blue

13. Write a code to find the minimum number in the tuple (10, 20, 5, 15):

numbers = (10, 20, 5, 15)
min_number = min(numbers)
print(min_number)
     

5

14. Write a code to find the index of the element "cat" in the tuple ('dog', 'cat', 'rabbit'):

animals = ('dog', 'cat', 'rabbit')
cat_index = animals.index('cat')
print(cat_index)
     

1

15. Write a code to create a tuple containing three different fruits and check if "kiwi" is in it:

fruits = ('apple', 'banana', 'orange')
is_kiwi_present = 'kiwi' in fruits
print(is_kiwi_present)
     

False

16. Write a code to create a set with the elements 'a', 'b', 'c' and print it:

my_set = {'a', 'b', 'c'}
print(my_set)

# Alternative way
my_set = set(['a', 'b', 'c'])
print(my_set)
     

{'a', 'c', 'b'}
{'a', 'c', 'b'}

17. Write a code to clear all elements from the set {1, 2, 3, 4, 5}:

my_set = {1, 2, 3, 4, 5}
my_set.clear()
print(my_set)
     

set()

18. Write a code to remove the element 4 from the set {1, 2, 3, 4}:

my_set = {1, 2, 3, 4}
my_set.remove(4)
print(my_set)

# Alternative way (discard doesn't raise an error if element not found)
my_set = {1, 2, 3, 4}
my_set.discard(4)
print(my_set)
     

{1, 2, 3}
{1, 2, 3}

19. Write a code to find the union of two sets {1, 2, 3} and {3, 4, 5}:

set1 = {1, 2, 3}
set2 = {3, 4, 5}
union_set = set1.union(set2)
print(union_set)

# Alternative way using the | operator
union_set = set1 | set2
print(union_set)
     

{1, 2, 3, 4, 5}
{1, 2, 3, 4, 5}

print(union_set) # Output: {1, 2, 3, 4, 5}

    Write a code to find the intersection of two sets {1, 2, 3} and {2, 3, 4}:


set1 = {1, 2, 3}
set2 = {2, 3, 4}
intersection_set = set1.intersection(set2)
print(intersection_set)

# Alternative way using the & operator
intersection_set = set1 & set2
print(intersection_set)
     

{2, 3}
{2, 3}

21. Write a code to create a dictionary with the keys "name", "age", and "city", and print it:

person = {
    "name": "Kishor Kumar",
    "age": 34,
    "city": "Bihar "
}
print(person)
     

{'name': 'Kishor Kumar', 'age': 34, 'city': 'Bihar '}

22. Write a code to add a new key-value pair "country": "USA" to the dictionary {'name': 'John', 'age': 25}:

person = {'name': 'Kishor Kumar', 'age': 25}
person['country'] = 'Bihar'
print(person)
     

{'name': 'Kishor Kumar', 'age': 25, 'country': 'India'}

23. Write a code to access the value associated with the key "name" in the dictionary {'name': 'Alice', 'age': 30}:

person = {'name': 'Pihu', 'age': 30}
name_value = person['name']
print(name_value)
# Alternative safer way using get()
name_value = person.get('name')  # Returns None if key doesn't exist
print(name_value)
     

Pihu 
Pihu

24. Write a code to remove the key "age" from the dictionary {'name': 'Bob', 'age': 22, 'city': 'New York'}:

person = {'name': 'Kishor Kumar', 'age': 22, 'city': 'Bihar'}
del person['age']
print(person)

# Alternative way
person = {'name': 'Pihu', 'age': 22, 'city': 'Madhya Pradesh'}
removed_value = person.pop('age')
print(person)
print(removed_value)
     

{'name': 'Kishor Kumar', 'city': 'Bihar'}
{'name': 'Pihu', 'city': 'Madhya Pradesh'}
22

25. Write a code to check if the key "city" exists in the dictionary {'name': 'Alice', 'city': 'Paris'}:

person = {'name': 'Prashant', 'city': 'Naugachia'}
has_city = 'city' in person
print(has_city)

# Alternative way
has_city = person.get('city') is not None
print(has_city)
     

True
True

26. Write a code to create a list, a tuple, and a dictionary, and print them all:

my_list = [1, 2, 3]
my_tuple = ('a', 'b', 'c')
my_dict = {'name': 'Kishor Kumar', 'age': 23}

print("List:", my_list)
print("Tuple:", my_tuple)
print("Dictionary:", my_dict)


     

List: [1, 2, 3]
Tuple: ('a', 'b', 'c')
Dictionary: {'name': 'Kishor Kumar', 'age': 23}

27. Write a code to create a list of 5 random numbers between 1 and 100, sort it in ascending order, and print the result

import random

# Generate 5 random numbers between 1 and 100
random_numbers = [random.randint(1, 100) for _ in range(5)]
print("Original random numbers:", random_numbers)

# Sort the list in ascending order
random_numbers.sort()
print("Sorted numbers:", random_numbers)

# Alternative way
random_numbers = [random.randint(1, 100) for _ in range(5)]
sorted_numbers = sorted(random_numbers)  # This creates a new sorted list
print("Original:", random_numbers)
print("Sorted:", sorted_numbers)
     

Original random numbers: [32, 68, 5, 14, 90]
Sorted numbers: [5, 14, 32, 68, 90]
Original: [79, 52, 24, 85, 89]
Sorted: [24, 52, 79, 85, 89]

28. Write a code to create a list with strings and print the element at the third index:

fruits = ["apple", "banana", "cherry", "date", "elderberry", "fig"]
third_index_element = fruits[3]
print(f"The element at index 3 is: {third_index_element}")  #
     

The element at index 3 is: date

29. Write a code to combine two dictionaries into one and print the result:

dict1 = {'a': 1, 'b': 2}
dict2 = {'c': 3, 'd': 4}

# Method 1: Using update()
combined_dict1 = dict1.copy()  # Create a copy to avoid modifying the original
combined_dict1.update(dict2)
print("Combined dictionary (method 1):", combined_dict1)

# Method 2: Using dictionary unpacking
combined_dict2 = {**dict1, **dict2}
print("Combined dictionary (method 2):", combined_dict2)

# Method 3: Using the | operator
combined_dict3 = dict1 | dict2
print("Combined dictionary (method 3):", combined_dict3)


     

Combined dictionary (method 1): {'a': 1, 'b': 2, 'c': 3, 'd': 4}
Combined dictionary (method 2): {'a': 1, 'b': 2, 'c': 3, 'd': 4}
Combined dictionary (method 3): {'a': 1, 'b': 2, 'c': 3, 'd': 4}

30. Write a code to convert a list of strings into a set:

string_list = ["apple", "banana", "apple", "cherry", "banana"]
string_set = set(string_list)
print("Original list:", string_list)
print("Converted to set:", string_set)


     

Original list: ['apple', 'banana', 'apple', 'cherry', 'banana']
Converted to set: {'cherry', 'banana', 'apple'}


